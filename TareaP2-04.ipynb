{
 "cells": [
  {
   "cell_type": "code",
   "execution_count": null,
   "id": "463e18ad-a3b3-46f2-b932-11ac71487516",
   "metadata": {},
   "outputs": [],
   "source": []
  }
 ],
 "metadata": {
  "kernelspec": {
   "display_name": "",
   "name": ""
  },
  "language_info": {
   "name": ""
  }
 },
 "nbformat": 4,
 "nbformat_minor": 5
}
